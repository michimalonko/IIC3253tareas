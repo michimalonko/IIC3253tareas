{
 "cells": [
  {
   "cell_type": "markdown",
   "metadata": {
    "collapsed": false
   },
   "source": [
    "**Primero definimos las funciones de encriptación y desencriptación** \n",
    "Y la función de distancia entregada\n"
   ]
  },
  {
   "cell_type": "code",
   "execution_count": 1,
   "metadata": {
    "collapsed": false
   },
   "outputs": [
   ],
   "source": [
    "def enc(mensaje, llave):\n",
    "    msj_final = \"\"\n",
    "    for i in range(len(mensaje)):\n",
    "        msj_final += alfabeto[(alfabeto.index(mensaje[i]) + alfabeto.index(llave[i % len(llave)])) % len(alfabeto)]\n",
    "    return msj_final\n",
    "\n",
    "\n",
    "def dec(mensaje, llave):\n",
    "    msj_final = \"\"\n",
    "    for i in range(len(mensaje)):\n",
    "        msj_final += alfabeto[(alfabeto.index(mensaje[i]) - alfabeto.index(llave[i % len(llave)])) % len(alfabeto)]\n",
    "    return msj_final\n",
    "\n",
    "def abs_distance(string, frequencies):\n",
    "    \"\"\"\n",
    "    Arguments :\n",
    "    string : An abritrary string\n",
    "    frequencies : A dictionary representing a character frequency\n",
    "    Returns :\n",
    "    distance : How distant is the string from the character frequency\n",
    "    \"\"\"\n",
    "\n",
    "    return sum([abs(frequencies[c] - string.count(c) / len(string)) for c in frequencies])"
   ]
  },
  {
   "cell_type": "markdown",
   "metadata": {
    "collapsed": false
   },
   "source": [
    "**Ahora definimos un descifrador para un largo fijo l**\n",
    "Este funciona sabiendo que para cada carácter en la llave en la posición i este codificara todas las posiciones  i + un múltiplo de l, hasta que se acabe el mensaje, entonces si tomamos la cadena de todos los caracteres codificados por ese carácter de la llave, esperamos que siga la frecuencia del diccionario entregado,  y así vamos adivinando carácter por carácter la llave hasta ver cual calza mejor con las frecuencias y elegimos ese."
   ]
  },
  {
   "cell_type": "code",
   "execution_count": 0,
   "metadata": {
    "collapsed": false
   },
   "outputs": [
   ],
   "source": [
    "def break_rp_l(ciphertext, frequencies, distance, lenght):\n",
    "    llave = \"\"\n",
    "    for i in range(lenght):\n",
    "        candidate_char = \"\"\n",
    "        min_distance = float(\"Inf\")\n",
    "        for letra in alfabeto:\n",
    "            current_plain_text = dec(ciphertext, llave + letra)\n",
    "            apariciones = \"\".join([current_plain_text[i + (pos * len(llave + letra))] for pos in\n",
    "                                   range(len(current_plain_text) // len(llave + letra))])\n",
    "            distancia = distance(apariciones, frequencies)\n",
    "            if distancia < min_distance:\n",
    "                min_distance = distancia\n",
    "                candidate_char = letra\n",
    "        llave += candidate_char\n",
    "    return llave"
   ]
  },
  {
   "cell_type": "markdown",
   "metadata": {
    "collapsed": false
   },
   "source": [
    "**Finalmente definimos el descifrador general**\n",
    "Este usa el descifrador de largo l para ir buscando llaves de largo 1 hasta el largo del texto dividido en 50 y con la función de distancia va viendo cual es el mejor resultado entregándolo al final"
   ]
  },
  {
   "cell_type": "code",
   "execution_count": 0,
   "metadata": {
    "collapsed": false
   },
   "outputs": [
   ],
   "source": [
    "def break_rp(ciphertext, frequencies, distance):\n",
    "    mejor_llave = \"\"\n",
    "    mejor_puntaje = float(\"Inf\")\n",
    "    for lenght in range(1, len(ciphertext) // 50):\n",
    "        llave = break_rp_l(ciphertext, frequencies, distance, lenght)\n",
    "        dec_msj = dec(ciphertext, llave)\n",
    "        puntaje = distance(dec_msj, frequencies)\n",
    "        if puntaje < mejor_puntaje:\n",
    "            mejor_puntaje = puntaje\n",
    "            mejor_llave = llave\n",
    "    return mejor_llave"
   ]
  }
 ],
 "metadata": {
  "kernelspec": {
   "display_name": "Python 3 (system-wide)",
   "language": "python",
   "metadata": {
    "cocalc": {
     "description": "Python 3 programming language",
     "priority": 100,
     "url": "https://www.python.org/"
    }
   },
   "name": "python3",
   "resource_dir": "/ext/jupyter/kernels/python3"
  },
  "language_info": {
   "codemirror_mode": {
    "name": "ipython",
    "version": 3
   },
   "file_extension": ".py",
   "mimetype": "text/x-python",
   "name": "python",
   "nbconvert_exporter": "python",
   "pygments_lexer": "ipython3",
   "version": "3.8.10"
  }
 },
 "nbformat": 4,
 "nbformat_minor": 4
}