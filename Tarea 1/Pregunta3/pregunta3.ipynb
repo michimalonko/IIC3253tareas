{
 "cells": [
  {
   "cell_type": "markdown",
   "metadata": {
    "collapsed": false
   },
   "source": [
    "**A continuación definimos la clase de nodo y de árbol de merkle**\n",
    "Para la construcción del árbol se toman las hojas y recursivamente se va construyendo hacia arriba piso por piso, luego recursivamente desde la raíz hacia las hojas se añade la relacion de padre, finalmente la funcion que entrega la prueba revisa primero si dicho valor es parte de la hojas y en el caso de que sea recorre el árbol hacia arriba según la relacion de padre hasta llegar a la raíz para determinar cual es la informacion necesaria para la prueba.\n"
   ]
  },
  {
   "cell_type": "code",
   "execution_count": 0,
   "metadata": {
    "collapsed": false
   },
   "outputs": [
   ],
   "source": [
    "class Node:\n",
    "    def __init__(self, left, right, value, ):\n",
    "        self.parent = None\n",
    "        self.left = left\n",
    "        self.right = right\n",
    "        self.value = value\n",
    "\n",
    "    def __repr__(self):\n",
    "        return f\" mi hash es: {self.value}\"\n",
    "\n",
    "\n",
    "class MerkleTree:\n",
    "    def __init__(self, values, hash_func):\n",
    "        self.values = values\n",
    "        self.hash_func = hash_func\n",
    "        self.root = None\n",
    "        self.leaves = []\n",
    "        self.build_tree(values)\n",
    "\n",
    "    def build_tree(self, values) -> None:\n",
    "        self.leaves = [Node(None, None, self.hash_func(e)) for e in values]\n",
    "        self.root = self.build_tree_rec(self.leaves)\n",
    "        self.emparentar(self.root)\n",
    "\n",
    "\n",
    "    def get_root(self):\n",
    "        return self.root\n",
    "\n",
    "    def build_tree_rec(self, nodes):\n",
    "        if len(nodes) == 2:\n",
    "            return Node(nodes[0], nodes[1], self.hash_func(nodes[0].value + nodes[1].value))\n",
    "\n",
    "        if len(nodes) % 2 == 1:\n",
    "            nodes.append(nodes[-1:][0])  # duplicate last elem if odd number of elements\n",
    "\n",
    "        new_level = []\n",
    "        for i in range(len(nodes) // 2):\n",
    "            node_left = nodes[2 * i]\n",
    "            node_right = nodes[2 * i + 1]\n",
    "            new_level.append(Node(node_left, node_right, hash_func(node_left.value + node_right.value)))\n",
    "        return self.build_tree_rec(new_level)\n",
    "\n",
    "    def printTree(self):\n",
    "        self.printTreeRec(self.root)\n",
    "\n",
    "    def printTreeRec(self, node):\n",
    "        if node != None:\n",
    "            print(node.value)\n",
    "            self.printTreeRec(node.left)\n",
    "            self.printTreeRec(node.right)\n",
    "\n",
    "    def get_proof_for(self, item):\n",
    "        \"\"\"\n",
    "        Returns :\n",
    "        result : None if the item is not part of the leafs of the tree\n",
    "        A list with the necessary info to prove that the\n",
    "        item is part of the leafs of the tree\n",
    "        \"\"\"\n",
    "        if item not in self.values:\n",
    "            return None\n",
    "\n",
    "        idx = self.values.index(item)\n",
    "        leaf = self.leaves[idx]\n",
    "        proof = list()\n",
    "        proof.append(item)\n",
    "        self.get_proof(leaf,proof)\n",
    "        return proof\n",
    "\n",
    "\n",
    "    def get_proof(self, node, proof):\n",
    "        if node.parent is None:\n",
    "            return\n",
    "        if node.parent.left == node:\n",
    "            proof.append((node.parent.right.value, \"d\"))\n",
    "        else:\n",
    "            proof.append((node.parent.left.value, \"i\"))\n",
    "        self.get_proof(node.parent, proof)\n",
    "\n",
    "    def emparentar(self, node):\n",
    "        if node is None:\n",
    "            return\n",
    "        if node.left:\n",
    "            node.left.parent = node\n",
    "            node.right.parent = node\n",
    "        self.emparentar(node.right)\n",
    "        self.emparentar(node.left)\n",
    "\n",
    "    def find_leaf(self, node, hash):\n",
    "        if node is None:\n",
    "            return False\n",
    "        if node.value == hash:\n",
    "            return True\n",
    "        res_left = self.find_leaf(node.left, hash)\n",
    "        if res_left:\n",
    "            return True\n",
    "        res_right = self.find_leaf(node.right, hash)\n",
    "        return res_right\n",
    "\n",
    "\n"
   ]
  },
  {
   "cell_type": "markdown",
   "metadata": {
    "collapsed": false
   },
   "source": [
    "**Finalmente una prueba usando sha256 como encriptación**"
   ]
  },
  {
   "cell_type": "code",
   "execution_count": 0,
   "metadata": {
    "collapsed": false
   },
   "outputs": [
   ],
   "source": [
    "if __name__ == \"__main__\":\n",
    "    import hashlib\n",
    "\n",
    "\n",
    "    def hash_func(string):\n",
    "        m = hashlib.sha256()\n",
    "        m.update(string.encode('utf-8'))\n",
    "        return m.hexdigest()\n",
    "\n",
    "\n",
    "    strings = [\"s1\", \"s2\", \"s3\", \"s4\", \"s5\", \"s6\", \"s7\"]\n",
    "    merkle = MerkleTree(strings, hash_func)\n",
    "    merkle.get_proof_for(\"s5\")"
   ]
  }
 ],
 "metadata": {
  "kernelspec": {
   "display_name": "Python 3 (system-wide)",
   "language": "python",
   "metadata": {
    "cocalc": {
     "description": "Python 3 programming language",
     "priority": 100,
     "url": "https://www.python.org/"
    }
   },
   "name": "python3",
   "resource_dir": "/ext/jupyter/kernels/python3"
  }
 },
 "nbformat": 4,
 "nbformat_minor": 4
}