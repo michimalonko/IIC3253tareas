{
  "cells": [
    {
      "cell_type": "code",
      "source": [
        "#Implementacion de funcion creadora de funcion de hash de largo fijo \n",
        "\n",
        "\n",
        "def davies_meyer(encrypt, l_key, l_message):\n",
        "    def enc_function(mensaje_completo):\n",
        "        key = mensaje_completo[:l_key]\n",
        "        msj = mensaje_completo[l_key:]\n",
        "        enc = encrypt(msj, key)\n",
        "        hash = xor(enc, key)\n",
        "        return hash\n",
        "\n",
        "    return enc_function\n",
        "\n",
        "\n",
        "\"\"\"\n",
        "Arguments :\n",
        "encrypt : an encryption function\n",
        "l_key : length in bytes of the keys for encrypt\n",
        "l_message : length in bytes of the messages for encrypt\n",
        "Returns :\n",
        "A compression function from messages of length l_key + l_message to\n",
        "messages of length l_message , defined by using the Davies - Meyer\n",
        "construction\n",
        "\"\"\"\n",
        "\n",
        "\n",
        "def xor(one, two):\n",
        "    return bytearray(a ^ b for (a, b) in zip(one, two))\n",
        "\n",
        "# printing integer in byte representation\n",
        "\n",
        "def test(output, answer):\n",
        "    print(output == answer)\n",
        "\n",
        "# Funcion de pad que añade el largo al final\n",
        "def pad(message: bytearray, l_block: int):\n",
        "    resto = len(message) % l_block\n",
        "    pad_ultimo_bloque = b\"\\x01\" + b\"\\x00\" * ((l_block - resto) - 1)\n",
        "    bloque_largo = (len(message) % (2**l_block)).to_bytes(l_block, \"big\")\n",
        "    if resto == 0:\n",
        "        return message + bloque_largo\n",
        "    return message + pad_ultimo_bloque + bloque_largo\n",
        "\"\"\"\n",
        "Arguments :\n",
        "message : message to be padded\n",
        "l_block : length in bytes of the block\n",
        "Returns :\n",
        "extension of message that includes the length of message\n",
        "(in bytes ) in its last block\n",
        "\"\"\"\n",
        "\n",
        "def merkle_damgard(IV: bytearray, comp, l_block: int):\n",
        "    def hash_func(msg):\n",
        "        msg = pad(msg, l_block)\n",
        "        bloques = [msg[i:i + l_block] for i in range(0, len(msg), l_block)]\n",
        "        hash_actual = comp(IV + bloques.pop(0))\n",
        "        #print(hash_actual)\n",
        "        for bloque in bloques:\n",
        "            hash_actual = comp(hash_actual + bloque)\n",
        "            #print(hash_actual)\n",
        "        return hash_actual\n",
        "    return hash_func\n",
        "\n",
        "\"\"\"\n",
        "Arguments :\n",
        "IV: initialization vector for a hash function\n",
        "comp : compression function to be used in the Merkle - Damgard\n",
        "construction\n",
        "l_block : length in bytes of the blocks to be used in the Merkle - Damgard\n",
        "construction\n",
        "Returns :\n",
        "A hash function for messages of arbitrary length , defined by using\n",
        "the Merkle - Damgard construction\n",
        "\"\"\"\n"
      ],
      "metadata": {
        "id": "nAd9TY3v4456",
        "outputId": "962fb3c8-c726-4349-cca1-dc81530b001d",
        "colab": {
          "base_uri": "https://localhost:8080/"
        }
      },
      "execution_count": 6,
      "outputs": [
        {
          "output_type": "stream",
          "name": "stdout",
          "text": [
            "bytearray(b'\\xe9\\xe8\\xac\\x12\\\\\\xf2\\xc8\\x16\\xceOV\\xc5Y.T\\xea')\n",
            "bytearray(b'\\xb6\\xfb\\xc6a\\x12\\xae\\x95\\x1f\\xda\\xc5\\x13\\xde\\x06|Q\\x96')\n",
            "bytearray(b'\\xc5\\xec\\xcdd\\xa4(R*\\xf0L*QtL\\xda\\x81')\n",
            "bytearray(b'p\\xca \\xd8\\x9c\\xeb\\xe6\\xb1\\xce\\xcf\\x03\\xb2\\x9e\\x93\\x19\\xbc')\n"
          ]
        }
      ]
    }
  ],
  "metadata": {
    "colab": {
      "collapsed_sections": [],
      "name": "pregunta1",
      "provenance": []
    },
    "kernelspec": {
      "display_name": "Python 3",
      "name": "python3"
    }
  },
  "nbformat": 4,
  "nbformat_minor": 0
}